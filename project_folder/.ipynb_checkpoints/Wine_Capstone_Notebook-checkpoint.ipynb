{
 "cells": [
  {
   "cell_type": "markdown",
   "metadata": {},
   "source": [
    "# Getting Acquainted\n",
    "\n",
    "The data was collected from Kaggle @ https://www.kaggle.com/zynicide/wine-reviews\n",
    "\n",
    "### This notebook is split into 4 sections covering the analysis of the wine dataset:\n",
    "\n",
    "1) Getting Acquainted & Purpose\n",
    "\n",
    "2) Prepping Data\n",
    "\n",
    "3) Charting Points to Country relation\n",
    "\n",
    "4) Charting Variety to Country relation\n",
    "\n",
    "5) Charting Variety to Rating relation\n",
    "\n",
    "6) Creating a Pricing Model\n",
    "\n",
    "7) Conclusion and Final Thoughts"
   ]
  },
  {
   "cell_type": "markdown",
   "metadata": {},
   "source": [
    "### Purpose: Exploring Feature Impacts on Wine Pricing\n",
    "\n",
    "In this notebook I am going to be exploring which features best contribute to a wine's price and create a predictive model from it. This will be guided with domain knowledge from the book Wine Folly, (a sommelier's guide to tasting), and combined with NLP techniques and statistical analysis to determine the best features.\n",
    "\n",
    "#### Domain Guidance:\n",
    "\n",
    "According to Wine Folly, there are several factors that influence wine prices; country of origin and vintage year made, winery history and reputation, and the taster's reputation, review and point assignment to the wine. Additionally, points are allocated based on how a wine typifies it's variety. Like a dog in a dog show, the winning Aussie isn't the one that looks like a poodle.\n",
    "\n",
    "Wine Folly also mentions that a wine that is given a higher score can ultimately impact the future price of the wine by boosting the reputation of the winery and creating a demand shift for the wine. Because of this, points is something that will need to be studied and better understood in this process. \n",
    "\n",
    "#### Explantion:\n",
    "Wine is a rather illiquid asset "
   ]
  },
  {
   "cell_type": "markdown",
   "metadata": {},
   "source": [
    "### Prepping Dataframe"
   ]
  },
  {
   "cell_type": "code",
   "execution_count": 1,
   "metadata": {},
   "outputs": [
    {
     "name": "stdout",
     "output_type": "stream",
     "text": [
      "Unnamed: 0         0\n",
      "country            5\n",
      "description        0\n",
      "designation    45735\n",
      "points             0\n",
      "price          13695\n",
      "province           5\n",
      "region_1       25060\n",
      "region_2       89977\n",
      "variety            0\n",
      "winery             0\n",
      "dtype: int64\n"
     ]
    },
    {
     "data": {
      "text/html": [
       "<div>\n",
       "<style scoped>\n",
       "    .dataframe tbody tr th:only-of-type {\n",
       "        vertical-align: middle;\n",
       "    }\n",
       "\n",
       "    .dataframe tbody tr th {\n",
       "        vertical-align: top;\n",
       "    }\n",
       "\n",
       "    .dataframe thead th {\n",
       "        text-align: right;\n",
       "    }\n",
       "</style>\n",
       "<table border=\"1\" class=\"dataframe\">\n",
       "  <thead>\n",
       "    <tr style=\"text-align: right;\">\n",
       "      <th></th>\n",
       "      <th>Unnamed: 0</th>\n",
       "      <th>country</th>\n",
       "      <th>description</th>\n",
       "      <th>designation</th>\n",
       "      <th>points</th>\n",
       "      <th>price</th>\n",
       "      <th>province</th>\n",
       "      <th>region_1</th>\n",
       "      <th>region_2</th>\n",
       "      <th>variety</th>\n",
       "      <th>winery</th>\n",
       "    </tr>\n",
       "  </thead>\n",
       "  <tbody>\n",
       "    <tr>\n",
       "      <th>0</th>\n",
       "      <td>0</td>\n",
       "      <td>US</td>\n",
       "      <td>This tremendous 100% varietal wine hails from ...</td>\n",
       "      <td>Martha's Vineyard</td>\n",
       "      <td>96</td>\n",
       "      <td>235.0</td>\n",
       "      <td>California</td>\n",
       "      <td>Napa Valley</td>\n",
       "      <td>Napa</td>\n",
       "      <td>Cabernet Sauvignon</td>\n",
       "      <td>Heitz</td>\n",
       "    </tr>\n",
       "    <tr>\n",
       "      <th>1</th>\n",
       "      <td>1</td>\n",
       "      <td>Spain</td>\n",
       "      <td>Ripe aromas of fig, blackberry and cassis are ...</td>\n",
       "      <td>Carodorum Selección Especial Reserva</td>\n",
       "      <td>96</td>\n",
       "      <td>110.0</td>\n",
       "      <td>Northern Spain</td>\n",
       "      <td>Toro</td>\n",
       "      <td>NaN</td>\n",
       "      <td>Tinta de Toro</td>\n",
       "      <td>Bodega Carmen Rodríguez</td>\n",
       "    </tr>\n",
       "    <tr>\n",
       "      <th>2</th>\n",
       "      <td>2</td>\n",
       "      <td>US</td>\n",
       "      <td>Mac Watson honors the memory of a wine once ma...</td>\n",
       "      <td>Special Selected Late Harvest</td>\n",
       "      <td>96</td>\n",
       "      <td>90.0</td>\n",
       "      <td>California</td>\n",
       "      <td>Knights Valley</td>\n",
       "      <td>Sonoma</td>\n",
       "      <td>Sauvignon Blanc</td>\n",
       "      <td>Macauley</td>\n",
       "    </tr>\n",
       "  </tbody>\n",
       "</table>\n",
       "</div>"
      ],
      "text/plain": [
       "   Unnamed: 0 country                                        description  \\\n",
       "0           0      US  This tremendous 100% varietal wine hails from ...   \n",
       "1           1   Spain  Ripe aromas of fig, blackberry and cassis are ...   \n",
       "2           2      US  Mac Watson honors the memory of a wine once ma...   \n",
       "\n",
       "                            designation  points  price        province  \\\n",
       "0                     Martha's Vineyard      96  235.0      California   \n",
       "1  Carodorum Selección Especial Reserva      96  110.0  Northern Spain   \n",
       "2         Special Selected Late Harvest      96   90.0      California   \n",
       "\n",
       "         region_1 region_2             variety                   winery  \n",
       "0     Napa Valley     Napa  Cabernet Sauvignon                    Heitz  \n",
       "1            Toro      NaN       Tinta de Toro  Bodega Carmen Rodríguez  \n",
       "2  Knights Valley   Sonoma     Sauvignon Blanc                 Macauley  "
      ]
     },
     "execution_count": 1,
     "metadata": {},
     "output_type": "execute_result"
    }
   ],
   "source": [
    "## For this notebook, we will first import the dataset from the csv file and then check to see if there are Null values\n",
    "import pandas as pd \n",
    "import os \n",
    "\n",
    "## loading dataframe\n",
    "data = pd.read_csv(\"winemag-data_first150k.csv\", index_col = False)\n",
    "\n",
    "##Checking for null values & printing first 3 lines of dataframe\n",
    "print(data.isnull().sum())\n",
    "\n",
    "data.head(3)"
   ]
  },
  {
   "cell_type": "markdown",
   "metadata": {},
   "source": [
    "###### What will be removed:\n",
    "\n",
    "Because the focus of this is to see the impact of points, country, variety, and descriptions on price; I can safely drop the Unamed 0, designation, and region_2 column.\n",
    "\n",
    "I know you may be wondering why I did not also include region_1, this is because region_1 "
   ]
  },
  {
   "cell_type": "code",
   "execution_count": 2,
   "metadata": {},
   "outputs": [],
   "source": [
    "data = data.drop(['Unnamed: 0','region_2','designation'], axis=1)"
   ]
  },
  {
   "cell_type": "code",
   "execution_count": null,
   "metadata": {},
   "outputs": [],
   "source": []
  },
  {
   "cell_type": "code",
   "execution_count": 3,
   "metadata": {},
   "outputs": [
    {
     "data": {
      "image/png": "[encoded data removed]",
      "text/plain": [
       "<Figure size 1440x1080 with 1 Axes>"
      ]
     },
     "metadata": {
      "needs_background": "light"
     },
     "output_type": "display_data"
    }
   ],
   "source": [
    "import seaborn as sns \n",
    "import matplotlib.pyplot as plt\n",
    "from nltk.tokenize.treebank import TreebankWordDetokenizer\n",
    "from nltk.corpus import stopwords\n",
    "from nltk import word_tokenize\n",
    "\n",
    "# set seaborn style \n",
    "plt.figure(figsize=(20,15))\n",
    "sns.set(style=\"whitegrid\")\n",
    "\n",
    "\n",
    "newStopWords = ['wine','flavors']\n",
    "stopwords = stopwords.words('english')\n",
    "stopwords.extend(newStopWords)\n",
    "stopwords = set(stopwords)\n",
    "\n",
    "detokenizer = TreebankWordDetokenizer()\n",
    "\n",
    "def clean_description(desc):\n",
    "    desc = word_tokenize(desc.lower())\n",
    "    desc = [token for token in desc if token not in stopwords and token.isalpha()]\n",
    "    return detokenizer.detokenize(desc)\n",
    "\n",
    "data[\"cleaned_description\"] = data[\"description\"].apply(clean_description)\n",
    "\n",
    "word_occurrence = data[\"cleaned_description\"].str.split(expand=True).stack().value_counts()\n",
    "\n",
    "total_words = sum(word_occurrence)\n",
    "\n",
    "# plot most common words \n",
    "\n",
    "top_words = word_occurrence[:30]/total_words\n",
    "\n",
    "ax = sns.barplot(x = top_words.values, y = top_words.index)\n",
    "\n",
    "# Setting title \n",
    "ax.set_title(\"% Occurrence of Most Frequent Words\")\n",
    "\n",
    "plt.show()"
   ]
  },
  {
   "cell_type": "code",
   "execution_count": 4,
   "metadata": {},
   "outputs": [
    {
     "data": {
      "text/html": [
       "<div>\n",
       "<style scoped>\n",
       "    .dataframe tbody tr th:only-of-type {\n",
       "        vertical-align: middle;\n",
       "    }\n",
       "\n",
       "    .dataframe tbody tr th {\n",
       "        vertical-align: top;\n",
       "    }\n",
       "\n",
       "    .dataframe thead th {\n",
       "        text-align: right;\n",
       "    }\n",
       "</style>\n",
       "<table border=\"1\" class=\"dataframe\">\n",
       "  <thead>\n",
       "    <tr style=\"text-align: right;\">\n",
       "      <th></th>\n",
       "      <th>country</th>\n",
       "      <th>description</th>\n",
       "      <th>points</th>\n",
       "      <th>price</th>\n",
       "      <th>province</th>\n",
       "      <th>region_1</th>\n",
       "      <th>variety</th>\n",
       "      <th>winery</th>\n",
       "      <th>cleaned_description</th>\n",
       "    </tr>\n",
       "  </thead>\n",
       "  <tbody>\n",
       "    <tr>\n",
       "      <th>0</th>\n",
       "      <td>US</td>\n",
       "      <td>This tremendous 100% varietal wine hails from ...</td>\n",
       "      <td>96</td>\n",
       "      <td>235.0</td>\n",
       "      <td>California</td>\n",
       "      <td>Napa Valley</td>\n",
       "      <td>Cabernet Sauvignon</td>\n",
       "      <td>Heitz</td>\n",
       "      <td>tremendous varietal hails oakville aged three ...</td>\n",
       "    </tr>\n",
       "    <tr>\n",
       "      <th>1</th>\n",
       "      <td>Spain</td>\n",
       "      <td>Ripe aromas of fig, blackberry and cassis are ...</td>\n",
       "      <td>96</td>\n",
       "      <td>110.0</td>\n",
       "      <td>Northern Spain</td>\n",
       "      <td>Toro</td>\n",
       "      <td>Tinta de Toro</td>\n",
       "      <td>Bodega Carmen Rodríguez</td>\n",
       "      <td>ripe aromas fig blackberry cassis softened swe...</td>\n",
       "    </tr>\n",
       "    <tr>\n",
       "      <th>2</th>\n",
       "      <td>US</td>\n",
       "      <td>Mac Watson honors the memory of a wine once ma...</td>\n",
       "      <td>96</td>\n",
       "      <td>90.0</td>\n",
       "      <td>California</td>\n",
       "      <td>Knights Valley</td>\n",
       "      <td>Sauvignon Blanc</td>\n",
       "      <td>Macauley</td>\n",
       "      <td>mac watson honors memory made mother tremendou...</td>\n",
       "    </tr>\n",
       "    <tr>\n",
       "      <th>3</th>\n",
       "      <td>US</td>\n",
       "      <td>This spent 20 months in 30% new French oak, an...</td>\n",
       "      <td>96</td>\n",
       "      <td>65.0</td>\n",
       "      <td>Oregon</td>\n",
       "      <td>Willamette Valley</td>\n",
       "      <td>Pinot Noir</td>\n",
       "      <td>Ponzi</td>\n",
       "      <td>spent months new french oak incorporates fruit...</td>\n",
       "    </tr>\n",
       "    <tr>\n",
       "      <th>4</th>\n",
       "      <td>France</td>\n",
       "      <td>This is the top wine from La Bégude, named aft...</td>\n",
       "      <td>95</td>\n",
       "      <td>66.0</td>\n",
       "      <td>Provence</td>\n",
       "      <td>Bandol</td>\n",
       "      <td>Provence red blend</td>\n",
       "      <td>Domaine de la Bégude</td>\n",
       "      <td>top la bégude named highest point vineyard fee...</td>\n",
       "    </tr>\n",
       "  </tbody>\n",
       "</table>\n",
       "</div>"
      ],
      "text/plain": [
       "  country                                        description  points  price  \\\n",
       "0      US  This tremendous 100% varietal wine hails from ...      96  235.0   \n",
       "1   Spain  Ripe aromas of fig, blackberry and cassis are ...      96  110.0   \n",
       "2      US  Mac Watson honors the memory of a wine once ma...      96   90.0   \n",
       "3      US  This spent 20 months in 30% new French oak, an...      96   65.0   \n",
       "4  France  This is the top wine from La Bégude, named aft...      95   66.0   \n",
       "\n",
       "         province           region_1             variety  \\\n",
       "0      California        Napa Valley  Cabernet Sauvignon   \n",
       "1  Northern Spain               Toro       Tinta de Toro   \n",
       "2      California     Knights Valley     Sauvignon Blanc   \n",
       "3          Oregon  Willamette Valley          Pinot Noir   \n",
       "4        Provence             Bandol  Provence red blend   \n",
       "\n",
       "                    winery                                cleaned_description  \n",
       "0                    Heitz  tremendous varietal hails oakville aged three ...  \n",
       "1  Bodega Carmen Rodríguez  ripe aromas fig blackberry cassis softened swe...  \n",
       "2                 Macauley  mac watson honors memory made mother tremendou...  \n",
       "3                    Ponzi  spent months new french oak incorporates fruit...  \n",
       "4     Domaine de la Bégude  top la bégude named highest point vineyard fee...  "
      ]
     },
     "execution_count": 4,
     "metadata": {},
     "output_type": "execute_result"
    }
   ],
   "source": [
    "data.head()"
   ]
  },
  {
   "cell_type": "code",
   "execution_count": 5,
   "metadata": {},
   "outputs": [],
   "source": [
    "### Finding the weights of country wine production"
   ]
  },
  {
   "cell_type": "code",
   "execution_count": 10,
   "metadata": {
    "scrolled": true
   },
   "outputs": [
    {
     "ename": "TypeError",
     "evalue": "'function' object is not iterable",
     "output_type": "error",
     "traceback": [
      "\u001b[0;31m---------------------------------------------------------------------------\u001b[0m",
      "\u001b[0;31mTypeError\u001b[0m                                 Traceback (most recent call last)",
      "\u001b[0;32m<ipython-input-10-2a4d6b3b466a>\u001b[0m in \u001b[0;36m<module>\u001b[0;34m\u001b[0m\n\u001b[1;32m      2\u001b[0m \u001b[0;34m\u001b[0m\u001b[0m\n\u001b[1;32m      3\u001b[0m \u001b[0;31m# Only consider varieties that have atleast 5000 instances\u001b[0m\u001b[0;34m\u001b[0m\u001b[0;34m\u001b[0m\u001b[0;34m\u001b[0m\u001b[0m\n\u001b[0;32m----> 4\u001b[0;31m \u001b[0mcountry_by_variety\u001b[0m \u001b[0;34m=\u001b[0m \u001b[0mcountry_by_variety\u001b[0m\u001b[0;34m.\u001b[0m\u001b[0mfilter\u001b[0m\u001b[0;34m(\u001b[0m\u001b[0;32mlambda\u001b[0m \u001b[0mx\u001b[0m\u001b[0;34m:\u001b[0m \u001b[0;34m(\u001b[0m\u001b[0mx\u001b[0m\u001b[0;34m[\u001b[0m\u001b[0;34m\"variety\"\u001b[0m\u001b[0;34m]\u001b[0m\u001b[0;34m.\u001b[0m\u001b[0mcount\u001b[0m\u001b[0;34m(\u001b[0m\u001b[0;34m)\u001b[0m \u001b[0;34m>=\u001b[0m \u001b[0;36m5000\u001b[0m\u001b[0;34m)\u001b[0m\u001b[0;34m)\u001b[0m\u001b[0;34m\u001b[0m\u001b[0;34m\u001b[0m\u001b[0m\n\u001b[0m\u001b[1;32m      5\u001b[0m \u001b[0;34m\u001b[0m\u001b[0m\n\u001b[1;32m      6\u001b[0m \u001b[0mtop_10_varietals\u001b[0m \u001b[0;34m=\u001b[0m \u001b[0mcountry_by_variety\u001b[0m\u001b[0;34m[\u001b[0m\u001b[0;34m'variety'\u001b[0m\u001b[0;34m]\u001b[0m\u001b[0;34m.\u001b[0m\u001b[0mgroupby\u001b[0m\u001b[0;34m(\u001b[0m\u001b[0mcountry_by_variety\u001b[0m\u001b[0;34m[\u001b[0m\u001b[0;34m'country'\u001b[0m\u001b[0;34m]\u001b[0m\u001b[0;34m)\u001b[0m\u001b[0;34m.\u001b[0m\u001b[0mvalue_counts\u001b[0m\u001b[0;34m(\u001b[0m\u001b[0mn\u001b[0m\u001b[0;34m)\u001b[0m\u001b[0;34m\u001b[0m\u001b[0;34m\u001b[0m\u001b[0m\n",
      "\u001b[0;32m~/opt/anaconda3/envs/winereviews/lib/python3.7/site-packages/pandas/core/generic.py\u001b[0m in \u001b[0;36mfilter\u001b[0;34m(self, items, like, regex, axis)\u001b[0m\n\u001b[1;32m   4621\u001b[0m         \u001b[0;32mif\u001b[0m \u001b[0mitems\u001b[0m \u001b[0;32mis\u001b[0m \u001b[0;32mnot\u001b[0m \u001b[0;32mNone\u001b[0m\u001b[0;34m:\u001b[0m\u001b[0;34m\u001b[0m\u001b[0;34m\u001b[0m\u001b[0m\n\u001b[1;32m   4622\u001b[0m             \u001b[0mname\u001b[0m \u001b[0;34m=\u001b[0m \u001b[0mself\u001b[0m\u001b[0;34m.\u001b[0m\u001b[0m_get_axis_name\u001b[0m\u001b[0;34m(\u001b[0m\u001b[0maxis\u001b[0m\u001b[0;34m)\u001b[0m\u001b[0;34m\u001b[0m\u001b[0;34m\u001b[0m\u001b[0m\n\u001b[0;32m-> 4623\u001b[0;31m             \u001b[0;32mreturn\u001b[0m \u001b[0mself\u001b[0m\u001b[0;34m.\u001b[0m\u001b[0mreindex\u001b[0m\u001b[0;34m(\u001b[0m\u001b[0;34m**\u001b[0m\u001b[0;34m{\u001b[0m\u001b[0mname\u001b[0m\u001b[0;34m:\u001b[0m \u001b[0;34m[\u001b[0m\u001b[0mr\u001b[0m \u001b[0;32mfor\u001b[0m \u001b[0mr\u001b[0m \u001b[0;32min\u001b[0m \u001b[0mitems\u001b[0m \u001b[0;32mif\u001b[0m \u001b[0mr\u001b[0m \u001b[0;32min\u001b[0m \u001b[0mlabels\u001b[0m\u001b[0;34m]\u001b[0m\u001b[0;34m}\u001b[0m\u001b[0;34m)\u001b[0m\u001b[0;34m\u001b[0m\u001b[0;34m\u001b[0m\u001b[0m\n\u001b[0m\u001b[1;32m   4624\u001b[0m         \u001b[0;32melif\u001b[0m \u001b[0mlike\u001b[0m\u001b[0;34m:\u001b[0m\u001b[0;34m\u001b[0m\u001b[0;34m\u001b[0m\u001b[0m\n\u001b[1;32m   4625\u001b[0m \u001b[0;34m\u001b[0m\u001b[0m\n",
      "\u001b[0;31mTypeError\u001b[0m: 'function' object is not iterable"
     ]
    }
   ],
   "source": [
    "country_by_variety = data[['country','variety']].dropna(how='any')\n",
    "\n",
    "# Only consider varieties that have atleast 5000 instances\n",
    "country_by_variety = country_by_variety.filter(lambda x: (x[\"variety\"].count() >= 5000))\n",
    "\n",
    "top_10_varietals = country_by_variety['variety'].groupby(country_by_variety['country']).value_counts(n)\n",
    "\n",
    "pd.set_option('display.max_rows', None)\n",
    "top_10_varietals"
   ]
  },
  {
   "cell_type": "markdown",
   "metadata": {},
   "source": [
    "### Price by Country\n",
    "\n",
    "Looking at the chart above there are a couple interesting findings. For example, why does Hungary have such a large range compared to all the other countries"
   ]
  },
  {
   "cell_type": "code",
   "execution_count": null,
   "metadata": {},
   "outputs": [],
   "source": [
    "prices_by_country = data[[\"price\", \"country\"]].dropna(how = \"any\")\n",
    "\n",
    "# Remove all data greater than the 98th percentile\n",
    "val = prices_by_country[\"price\"].quantile(0.98)\n",
    "prices_by_country = prices_by_country[prices_by_country[\"price\"] < val]\n",
    "\n",
    "# Only consider countries where at least 100 wines have been reviewed\n",
    "prices_by_country = prices_by_country.groupby(\"country\").filter(lambda x: (x[\"price\"].count() >= 100))\n",
    "\n",
    "# Creating a boxplot\n",
    "plt.figure(figsize=(20,15))\n",
    "ax = sns.boxplot(x=\"country\", y = \"price\", data=prices_by_country)\n",
    "\n",
    "# Setting title \n",
    "ax.set_title(\"Wine Prices by Country\")\n",
    "\n",
    "# Assuming prices are in USD since its an American website\n",
    "ax.set(xlabel = \"Origin Country\", ylabel = \"Price in USD\")\n",
    "\n",
    "# Making sure ticks aren't overlapping\n",
    "ax.set_xticklabels(ax.get_xticklabels(),rotation=45,ha=\"right\",rotation_mode='anchor')\n",
    "\n",
    "plt.show()"
   ]
  },
  {
   "cell_type": "code",
   "execution_count": null,
   "metadata": {},
   "outputs": [],
   "source": [
    "prices_by_variety = data[[\"price\", \"variety\"]].dropna(how = \"any\")\n",
    "\n",
    "# Remove all data greater than the 98th percentile\n",
    "val = prices_by_variety[\"price\"].quantile(0.98)\n",
    "prices_by_variety = prices_by_variety[prices_by_variety[\"price\"] < val]\n",
    "\n",
    "# Only consider varieties where at least 500 wines have been reviewed\n",
    "prices_by_variety = prices_by_variety.groupby(\"variety\").filter(lambda x: (x[\"price\"].count() >= 500))\n",
    "\n",
    "# Creating a boxplot\n",
    "plt.figure(figsize=(20,15))\n",
    "ax = sns.boxplot(x=\"variety\", y = \"price\", data=prices_by_variety)\n",
    "\n",
    "# Setting title \n",
    "ax.set_title(\"Wine Prices by Variety\")\n",
    "\n",
    "# Assuming prices are in USD since its an American website\n",
    "ax.set(xlabel = \"Variety\", ylabel = \"Price in USD\")\n",
    "\n",
    "# Making sure ticks aren't overlapping\n",
    "ax.set_xticklabels(ax.get_xticklabels(),rotation=45,ha=\"right\",rotation_mode='anchor')\n",
    "\n",
    "\n",
    "plt.show()"
   ]
  },
  {
   "cell_type": "code",
   "execution_count": null,
   "metadata": {},
   "outputs": [],
   "source": [
    "ratings_by_price = data[[\"price\", \"points\"]]\n",
    "\n",
    "# Remove all data greater than the 98th percentile\n",
    "val = prices_by_variety[\"price\"].quantile(0.98)\n",
    "ratings_by_price = ratings_by_price[ratings_by_price[\"price\"] < val]\n",
    "\n",
    "\n",
    "ax = sns.lmplot(x = \"price\", y = \"points\", data = ratings_by_price, height = 10, aspect = 1)\n",
    "\n",
    "# Assuming prices are in USD since its an American website\n",
    "ax.set(xlabel = \"Price in USD\", ylabel = \"Wine Rating\")\n",
    "\n",
    "plt.show()"
   ]
  },
  {
   "cell_type": "markdown",
   "metadata": {},
   "source": [
    "### Creating a rating system\n",
    "Reading through the book Wine Folly as well as looking on the Wine Enthusiast website, I came across an excellent point system that I will use to categorize the groups. You can read more about it here: https://winefolly.com/tips/wine-ratings-explained/\n",
    "\n",
    "TLDR:\n",
    "\n",
    "The wine rating system was developed back in the 80s which scored wines based on production quality and typicity, (how much the traits of the particular wine typify the style and region its from). Another way to think of it is like a dog show, the winner is the dog which explifies its breed. Any unique features that are not typical will score it lower on the point system. \n",
    "\n",
    "Ratings\n",
    "95 - 100    The benchmark examples or 'Classic'\n",
    "90 - 94     Superior to Exceptional\n",
    "85 - 90     Good to veru good\n",
    "80 - 84     Above average to good\n",
    "70 - 79     Flawed wines and taste average\n",
    "60 - 69     Wines are flawed and not recommended but drinkable\n",
    "50 - 59     Wines are flawed and undrinkable\n",
    "\n",
    "Interestingly, the dataset has no wines with a score under 80 which alludes again that only the better wines are scored. Additionally there are a couple notable flaws in this system: wine rating intervals vary depending on the different rating sites. For example:\n",
    "\n",
    "Wine & Spirits magazine says 86 - 89 is highly recommended, whereas Wine Enthusiast Magazine says 85 - 89 is very good. Because of this, I am using Wine Folly's system because the site is used as a training resource for sommeliers, thus offering a solid 3rd party system.\n",
    "\n",
    "I will be adopting this same point interval system for my classes 0 - 4.\n",
    "\n",
    "##### Note for the rating system:\n",
    "Due to issues surrounding biases that arise in self rating systems "
   ]
  },
  {
   "cell_type": "code",
   "execution_count": null,
   "metadata": {},
   "outputs": [],
   "source": [
    "# Converting Points to Classes \n",
    "\n",
    "# Note: I found that I had to adjust the class ranges below in order to capture the 100point wines and ensure none were left out.\n",
    "def points_to_class(points):\n",
    "    if points in range(79,85):\n",
    "        return 0\n",
    "    elif points in range(84,90):\n",
    "        return 1\n",
    "    elif points in range(89,95):\n",
    "        return 2\n",
    "    elif points in range(94,101):\n",
    "        return 3\n",
    "    else:\n",
    "        return 4\n",
    "    \n",
    "data['rating'] = data['points'].apply(points_to_class)"
   ]
  },
  {
   "cell_type": "code",
   "execution_count": null,
   "metadata": {},
   "outputs": [],
   "source": [
    "data['rating'].value_counts()"
   ]
  },
  {
   "cell_type": "code",
   "execution_count": null,
   "metadata": {},
   "outputs": [],
   "source": [
    "# As expected the data is imbalanced.\n",
    "# Interestingly, this falls inline with the expected results\n",
    "# Wine Folly's rating bell curve shows that a majority of the ratings fall between 87 - 89 points\n",
    "# as seen below and in the link provided earlier\n",
    "\n",
    "sns.histplot(data = data, x = 'points', stat = 'density', binwidth=1, bins=20)"
   ]
  },
  {
   "cell_type": "code",
   "execution_count": null,
   "metadata": {},
   "outputs": [],
   "source": [
    "#Now creating a new column with our newly designated rating classes as \"rating\".\n",
    "data[\"rating\"] = data[\"points\"].apply(points_to_class)\n",
    "data.head()"
   ]
  },
  {
   "cell_type": "markdown",
   "metadata": {},
   "source": [
    "### Diving deeper with Sentiment, Word Count, and Sentence Length"
   ]
  },
  {
   "cell_type": "code",
   "execution_count": null,
   "metadata": {},
   "outputs": [],
   "source": [
    "from textblob import TextBlob\n",
    "#Creating a sentiment column\n",
    "data['sentiment'] = data['cleaned_description'].apply(lambda x: TextBlob(x).sentiment.polarity)\n",
    "\n",
    "# Creating words and Sentence length columns\n",
    "data['word_count'] = data['cleaned_description'].apply(lambda x: len(str(x).split()))\n",
    "data['review_len'] = data['cleaned_description'].astype(str).apply(len)\n",
    "\n",
    "data.head()"
   ]
  },
  {
   "cell_type": "code",
   "execution_count": null,
   "metadata": {},
   "outputs": [],
   "source": [
    "# Given our data is mainly the higher end wines and those that are score, I'd assume there would be a skwew in the sentiment\n",
    "# Clearly below, we can see there is a much higher concentration of positive vs negative sentiment.\n",
    "\n",
    "plt.figure(figsize=(50,30))\n",
    "plt.margins(0.02)\n",
    "plt.xlabel('Sentiment', fontsize=50)\n",
    "plt.xticks(fontsize=40)\n",
    "plt.ylabel('Frequency', fontsize=50)\n",
    "plt.yticks(fontsize=40)\n",
    "plt.hist(data['sentiment'], bins=50)\n",
    "plt.title('Sentiment Distribution', fontsize=60)\n",
    "plt.show()"
   ]
  },
  {
   "cell_type": "code",
   "execution_count": null,
   "metadata": {},
   "outputs": [],
   "source": [
    "# Additionally, looking at how sentiment is distributed over the points and the rating system I created\n",
    "# It is clear that the average positive sentiment per-point/rating class is higher for the highly rated wines.\n",
    "\n",
    "polarity_avg = data.groupby('points')['sentiment'].mean().plot(kind='bar', figsize=(50,30))\n",
    "plt.xlabel('Points', fontsize=45)\n",
    "plt.ylabel('Average Sentiment', fontsize=45)\n",
    "plt.xticks(fontsize=40)\n",
    "plt.yticks(fontsize=40)\n",
    "plt.title('Average Sentiment per Points Distribution', fontsize=50)\n",
    "plt.show()"
   ]
  },
  {
   "cell_type": "code",
   "execution_count": null,
   "metadata": {},
   "outputs": [],
   "source": [
    "## This chart confirms that higher rated wines will have more positive sentiment in the reviews ##\n",
    "\n",
    "polarity_rating = data.groupby('rating')['sentiment'].mean().plot(kind='bar', figsize=(50,30))\n",
    "plt.xlabel('Points', fontsize=45)\n",
    "plt.ylabel('Average Sentiment', fontsize=45)\n",
    "plt.xticks(fontsize=40)\n",
    "plt.yticks(fontsize=40)\n",
    "plt.title('Average Sentiment per Points Distribution', fontsize=50)\n",
    "plt.show()"
   ]
  },
  {
   "cell_type": "code",
   "execution_count": null,
   "metadata": {},
   "outputs": [],
   "source": [
    "### Lets look at how sentiment is towards the most rated countries.\n",
    "sentiment_by_country = data[[\"sentiment\", \"country\"]].dropna(how = \"any\")\n",
    "\n",
    "# Only consider countries where at least 100 wines have been reviewed\n",
    "sentiment_by_country = sentiment_by_country.groupby(\"country\").filter(lambda x: (x[\"sentiment\"].count() >= 100))\n",
    "\n",
    "# Creating a boxplot\n",
    "plt.figure(figsize=(20,15))\n",
    "ax = sns.boxplot(x=\"country\", y = \"sentiment\", data=sentiment_by_country)\n",
    "\n",
    "# Setting title \n",
    "ax.set_title(\"Wine Sentiment by Country\")\n",
    "\n",
    "# Assuming prices are in USD since its an American website\n",
    "ax.set(xlabel = \"Origin Country\", ylabel = \"Sentiment\")\n",
    "\n",
    "# Making sure ticks aren't overlapping\n",
    "ax.set_xticklabels(ax.get_xticklabels(),rotation=45,ha=\"right\",rotation_mode='anchor')\n",
    "\n",
    "plt.show()"
   ]
  },
  {
   "cell_type": "code",
   "execution_count": null,
   "metadata": {},
   "outputs": [],
   "source": [
    "country_polarity = sentiment_by_country.groupby('country')['sentiment'].mean().plot(kind='bar', figsize=(50,30))\n",
    "plt.xlabel('country', fontsize=45)\n",
    "plt.ylabel('Average Sentiment', fontsize=45)\n",
    "plt.xticks(fontsize=40)\n",
    "plt.yticks(fontsize=40)\n",
    "plt.title('Average Sentiment per Points Distribution', fontsize=50)\n",
    "\n",
    "plt.axhline(sentiment_by_country['sentiment'].mean(), color='r',fillstyle = 'full', linestyle='dashed', linewidth=3)\n",
    "plt.axhline(sentiment_by_country['sentiment'].median(), color='g',fillstyle = 'full', linestyle='dashed', linewidth=3)\n",
    "\n",
    "plt.show()"
   ]
  },
  {
   "cell_type": "code",
   "execution_count": null,
   "metadata": {},
   "outputs": [],
   "source": [
    "### I want to see the statistics between countries and their average and median rating in order to get a better idea\n",
    "### as to how these countries are differentiated ###\n",
    "\n",
    "## Looking at average rating class between countries ##\n",
    "rating_by_country = data[[\"rating\", \"country\"]].dropna(how = \"any\")\n",
    "\n",
    "## Only consider countries where at least 100 wines have been reviewed ##\n",
    "rating_by_country = rating_by_country.groupby(\"country\").filter(lambda x: (x[\"rating\"].count() >= 100))\n",
    "\n",
    "## Creating barplot, grouping the ratings by countries and ratings and creating an average ##\n",
    "polarity_rating = rating_by_country.groupby('country')['rating'].mean().plot(kind='bar', figsize=(50,30))\n",
    "plt.xlabel('Country', fontsize=45)\n",
    "plt.ylabel('Average rating', fontsize=45)\n",
    "plt.xticks(fontsize=40)\n",
    "plt.yticks(fontsize=40)\n",
    "plt.title('Average Rating per Country Distribution', fontsize=50)\n",
    "\n",
    "## Mean of country ratings ##\n",
    "plt.axhline(rating_by_country['rating'].mean(), color='r',fillstyle = 'full', linestyle='dashed', linewidth=3)\n",
    "\n",
    "## Median of country ratings ##\n",
    "plt.axhline(rating_by_country['rating'].median(), color='g',fillstyle = 'full', linestyle='dashed', linewidth=3)\n",
    "\n",
    "plt.show()"
   ]
  },
  {
   "cell_type": "markdown",
   "metadata": {},
   "source": [
    "### Points of interest\n",
    "\n",
    "In the charts above, I'd like to point out several points of interest.\n",
    "\n",
    "First, there are only 6 countries that had an average rating higher than the group's average. These are in order; Austria, Canada, France, Germany, Italy, and Portugal.\n",
    "\n",
    "Canada stands out as interesting because a common belief in the wine industry is that \"old world\" wines will generally be rated higher since these are generally where the typify of the varietal type was developed and imitations of the same varietal types are judged on these. This I'll explore further to verify its accuracy.\n",
    "\n",
    "Second, of the 12 countries that lay above the median line (green), 6 of them"
   ]
  },
  {
   "cell_type": "code",
   "execution_count": null,
   "metadata": {},
   "outputs": [],
   "source": []
  },
  {
   "cell_type": "code",
   "execution_count": null,
   "metadata": {},
   "outputs": [],
   "source": [
    "\n",
    "#Looking at average rating class between Provinces.\n",
    "rating_by_province = data[[\"rating\", \"province\"]].dropna(how = \"any\")\n",
    "\n",
    "# Only consider Provinces where at least 500 wines have been reviewed\n",
    "rating_by_province = rating_by_province.groupby(\"province\").filter(lambda x: (x[\"rating\"].count() >= 500))\n",
    "\n",
    "polarity_rating = rating_by_province.groupby('province')['rating'].mean().plot(kind='bar', figsize=(50,30))\n",
    "plt.xlabel('Province', fontsize=45)\n",
    "plt.ylabel('Average rating', fontsize=45)\n",
    "plt.xticks(fontsize=40)\n",
    "plt.yticks(fontsize=40)\n",
    "plt.title('Average Rating per Province Distribution', fontsize=50)\n",
    "plt.axhline(rating_by_province['rating'].mean(), color='r',fillstyle = 'full', linestyle='dashed', linewidth=3)\n",
    "plt.show()"
   ]
  },
  {
   "cell_type": "code",
   "execution_count": null,
   "metadata": {},
   "outputs": [],
   "source": [
    "## Digging deeper, I want to see which is the most common wine with atleast 500 ratings.\n",
    "## I am trying to establish if there is oversaturation in certain varieties which leads to a rating drag.\n",
    "## Below for example, we see that the top varietal type is Chardonnay with nearly 14,500 instances in the dataset\n",
    "\n",
    "## what we also can see is that when grouping these by its rating, no Chardonnay crack into the highest rating interval.\n",
    "## In the wine world today, this pretty\n",
    "\n",
    "data_by_variety = data[[\"rating\",\"variety\"]].dropna(how = \"any\")\n",
    "\n",
    "# Only consider Provinces where at least 500 wines have been reviewed\n",
    "data_by_variety = data_by_variety.groupby(\"variety\").filter(lambda x: (x[\"rating\"].count() >= 500))\n",
    "\n",
    "print(data_by_variety[\"variety\"].value_counts().head(5))\n",
    "\n",
    "print(data_by_variety.groupby('rating')[\"variety\"].value_counts())"
   ]
  },
  {
   "cell_type": "code",
   "execution_count": null,
   "metadata": {},
   "outputs": [],
   "source": [
    "#Looking at average rating class between Varieties.\n",
    "rating_by_variety = data[[\"rating\", \"variety\"]].dropna(how = \"any\")\n",
    "\n",
    "# Only consider Provinces where at least 500 wines have been reviewed\n",
    "rating_by_variety = rating_by_variety.groupby(\"variety\").filter(lambda x: (x[\"rating\"].count() >= 500))\n",
    "\n",
    "polarity_rating = rating_by_variety.groupby('variety')['rating'].mean().plot(kind='bar', figsize=(50,30))\n",
    "plt.xlabel('Variety', fontsize=45)\n",
    "plt.ylabel('Average rating', fontsize=45)\n",
    "plt.xticks(fontsize=40)\n",
    "plt.yticks(fontsize=40)\n",
    "plt.title('Average Rating per Variety Distribution', fontsize=50)\n",
    "plt.axhline(rating_by_variety['rating'].mean(), color='r',fillstyle = 'full', linestyle='dashed', linewidth=3)\n",
    "plt.show()"
   ]
  },
  {
   "cell_type": "markdown",
   "metadata": {},
   "source": [
    "### Comparing High scoring Countries vs Low Scoring countries using weighted average\n",
    "\n",
    "From the chart above we can see that there is an average rating cut off is just below 1.2. But this does not take into account the respresentive quantity of ratings in each country. It is important to take this into account because a country who produces alot of wine can be brough closer to the average.\n",
    "\n",
    "To break this down further, I will need to find the quantities of the varieties by each country, and then calculated the weighted average points and ratings by country. I could break this down futher and even find the weighted average by variety as well."
   ]
  },
  {
   "cell_type": "code",
   "execution_count": null,
   "metadata": {},
   "outputs": [],
   "source": []
  },
  {
   "cell_type": "code",
   "execution_count": null,
   "metadata": {},
   "outputs": [],
   "source": [
    "weighted_features = data[['country','province','points','rating','variety']]\n",
    "wf = weighted_features.groupby(['country'].filter(lambda x: (x['points'].count() >= 100)))\n",
    "df"
   ]
  },
  {
   "cell_type": "code",
   "execution_count": null,
   "metadata": {},
   "outputs": [],
   "source": [
    "points_by_x = data[['points','country', 'variety', 'province']].dropna(how = \"any\")\n",
    "\n",
    "# Only consider countries where at least 100 wines have been reviewed\n",
    "points_by_x = points_by_x.groupby(['country', 'variety', 'province']).filter(lambda x: (x[\"points\"].count() >= 100))\n",
    "\n",
    "a_df = points_by_x.loc[points_by_x['country'] == 'Argentina']\n",
    "\n",
    "#weight of points per country\n",
    "argentina_point_weights = a_df.points.value_counts() / a_df.points.count()\n",
    "\n",
    "#weight of varieties per country\n",
    "argentina_variety_weights = a_df.variety.value_counts() / a_df.variety.count()\n",
    "\n",
    "vwdf = pd.DataFrame(argentina_variety_weights, columns = ['wt', 'variety'])\n",
    "#weight of ratings per country\n",
    "\n",
    "#weight of sentiment per country\n",
    "\n"
   ]
  },
  {
   "cell_type": "code",
   "execution_count": null,
   "metadata": {},
   "outputs": [],
   "source": [
    "argentina_variety_weights"
   ]
  },
  {
   "cell_type": "code",
   "execution_count": null,
   "metadata": {},
   "outputs": [],
   "source": [
    "df_f = data[['points','country', 'variety', 'province']].dropna(how = \"any\")\n",
    "\n",
    "df_f = df_f.groupby(['country', 'variety', 'province']).filter(lambda x: (x[\"points\"].count() >= 100))"
   ]
  },
  {
   "cell_type": "code",
   "execution_count": null,
   "metadata": {},
   "outputs": [],
   "source": [
    "df_f = data[['points','country', 'variety', 'province']].dropna(how = \"any\")\n",
    "df_f = df_f.groupby(['country', 'variety', 'province']).filter(lambda x: (x[\"points\"].count() >= 100))\n",
    "df_f.variety.value_counts()/df_f.variety.count()"
   ]
  },
  {
   "cell_type": "code",
   "execution_count": null,
   "metadata": {},
   "outputs": [],
   "source": [
    "df_f.province.value_counts()/df_f.province.count()"
   ]
  },
  {
   "cell_type": "code",
   "execution_count": null,
   "metadata": {},
   "outputs": [],
   "source": [
    "df_f.country.value_counts()/df_f.country.count()"
   ]
  },
  {
   "cell_type": "code",
   "execution_count": null,
   "metadata": {
    "scrolled": true
   },
   "outputs": [],
   "source": [
    "#Normalize columns to better understand country/province relationships with varieties, ratings, provinces and sentiment\n",
    "def find_weights(df):\n",
    "     \n",
    "    for features in df[]:\n",
    "        features = df[['country','province','points','rating','variety']].dropna(how = \"any\")\n",
    "        \n",
    "    for name in df['country']:\n",
    "        \n",
    "        sum_var_occur = df.loc[df['country'] == name].value_counts()\n",
    "        print(sum_var_occur)\n",
    "        \n",
    "find_weights(data)"
   ]
  },
  {
   "cell_type": "code",
   "execution_count": null,
   "metadata": {},
   "outputs": [],
   "source": [
    "  country_name_df = \n",
    "    country_name_df_weights = country_name_df.variety.value_counts() / country_name_df.variety.count()\n",
    "    print(country_name_df_weights)"
   ]
  },
  {
   "cell_type": "code",
   "execution_count": null,
   "metadata": {},
   "outputs": [],
   "source": []
  },
  {
   "cell_type": "code",
   "execution_count": null,
   "metadata": {},
   "outputs": [],
   "source": [
    "vwdf.reset_index(inplace=True)\n",
    "vwdf =vwdf.rename(columns = {'index' : 'variety', 'variety':'wt', 'wt':'na'})\n",
    "\n",
    "vwdf"
   ]
  },
  {
   "cell_type": "code",
   "execution_count": null,
   "metadata": {},
   "outputs": [],
   "source": [
    "vwdf= vwdf.drop(['na'], axis=1)\n",
    "vwdf"
   ]
  },
  {
   "cell_type": "code",
   "execution_count": null,
   "metadata": {},
   "outputs": [],
   "source": [
    "data.head()"
   ]
  },
  {
   "cell_type": "code",
   "execution_count": null,
   "metadata": {},
   "outputs": [],
   "source": []
  },
  {
   "cell_type": "code",
   "execution_count": null,
   "metadata": {},
   "outputs": [],
   "source": []
  },
  {
   "cell_type": "code",
   "execution_count": null,
   "metadata": {},
   "outputs": [],
   "source": [
    "def argentina_weights_to_variety(variety):\n",
    "    if variety in vwdf['variety']:   \n",
    "        return vwdf['wt']\n",
    "    else:\n",
    "        return 0\n",
    "    \n",
    "a_df['v_wt'] = a_df['variety'].apply(argentina_weights_to_variety)"
   ]
  },
  {
   "cell_type": "code",
   "execution_count": null,
   "metadata": {},
   "outputs": [],
   "source": []
  },
  {
   "cell_type": "code",
   "execution_count": null,
   "metadata": {},
   "outputs": [],
   "source": [
    "### Lets look at the weight of the frequencies between the high rating countries and the low rating countries\n",
    "def wavg(group, avg_name, weight_name):\n",
    "    d = group[avg_name]\n",
    "    w = group[weight_name]\n",
    "    try:\n",
    "        return (d * w).sum()/w.sum()\n",
    "    except ZeroDivisionError:\n",
    "        return d.mean()"
   ]
  },
  {
   "cell_type": "code",
   "execution_count": null,
   "metadata": {},
   "outputs": [],
   "source": [
    "a_df.points.count()\n"
   ]
  },
  {
   "cell_type": "markdown",
   "metadata": {},
   "source": [
    "#### Getting Granular: Wine Points by Variety\n",
    "\n",
    "As previously mentioned when creating a rating class system, points are scored based on how the wine typifies its variety. Thus it is prudent to also look at how the point and sentiment distribution looks by variety as well to gain a better understanding of the data."
   ]
  },
  {
   "cell_type": "code",
   "execution_count": null,
   "metadata": {},
   "outputs": [],
   "source": [
    "points_by_variety = data[[\"points\", \"variety\"]].dropna(how = \"any\")\n",
    "\n",
    "# Only consider varieties where at least 500 wines have been reviewed\n",
    "points_by_variety = points_by_variety.groupby(\"variety\").filter(lambda x: (x[\"points\"].count() >= 500))\n",
    "\n",
    "# Creating a boxplot\n",
    "plt.figure(figsize=(20,15))\n",
    "ax = sns.boxplot(x='variety', y = 'points', data=points_by_variety)\n",
    "\n",
    "# Setting title \n",
    "ax.set_title(\"Wine Points by Variety\")\n",
    "\n",
    "ax.set(xlabel = \"Wine Variety\", ylabel = \"Wine Points\")\n",
    "\n",
    "# Making sure ticks aren't overlapping\n",
    "ax.set_xticklabels(ax.get_xticklabels(),rotation=45,ha=\"right\",rotation_mode='anchor')\n",
    "\n",
    "\n",
    "plt.show()"
   ]
  },
  {
   "cell_type": "code",
   "execution_count": null,
   "metadata": {},
   "outputs": [],
   "source": [
    "#fix this in plotly\n",
    "\n",
    "variety_sentiment = data.groupby('variety')['sentiment'].mean().plot(kind='bar', figsize=(70,30))\n",
    "plt.xlabel('Variety', fontsize=45)\n",
    "plt.ylabel('Average Sentiment', fontsize=45)\n",
    "plt.xticks(fontsize=40)\n",
    "plt.yticks(fontsize=40)\n",
    "plt.title('Average Sentiment per Variety Distribution', fontsize=50)\n",
    "plt.show()"
   ]
  },
  {
   "cell_type": "code",
   "execution_count": null,
   "metadata": {},
   "outputs": [],
   "source": []
  },
  {
   "cell_type": "code",
   "execution_count": null,
   "metadata": {},
   "outputs": [],
   "source": [
    "import pandas as pd\n",
    "import requests\n",
    "import time\n",
    "import numpy as np\n",
    "import nltk\n",
    "import pyLDAvis\n",
    "import pyLDAvis.sklearn\n",
    "from collections import Counter\n",
    "from textblob import TextBlob\n",
    "from nltk.tokenize import word_tokenize\n",
    "from nltk.probability import FreqDist\n",
    "from sklearn.feature_extraction.text import CountVectorizer\n",
    "from sklearn.feature_extraction.text import TfidfVectorizer\n",
    "from sklearn.decomposition import LatentDirichletAllocation, NMF\n",
    "from wordcloud import WordCloud, ImageColorGenerator\n",
    "import matplotlib.pyplot as plt\n",
    "import seaborn as sns\n",
    "\n",
    "%matplotlib inline\n",
    "pd.options.mode.chained_assignment = None\n",
    "pd.set_option('display.max_colwidth', 100)\n",
    "pyLDAvis.enable_notebook()"
   ]
  },
  {
   "cell_type": "code",
   "execution_count": null,
   "metadata": {},
   "outputs": [],
   "source": [
    "df.shape"
   ]
  },
  {
   "cell_type": "code",
   "execution_count": null,
   "metadata": {
    "scrolled": true
   },
   "outputs": [],
   "source": [
    "df['country'] =df['country'].astype('category')\n",
    "df['province'] =df['province'].astype('category')\n",
    "df['variety'] =df['variety'].astype('category')\n",
    "df['winery'] =df['winery'].astype('category')\n",
    "\n",
    "\n",
    "\n",
    "df.dtypes"
   ]
  },
  {
   "cell_type": "code",
   "execution_count": null,
   "metadata": {},
   "outputs": [],
   "source": [
    "from sklearn.preprocessing import LabelEncoder\n",
    "\n",
    "le = LabelEncoder()\n",
    "\n",
    "df['country_cat'] = le.fit_transform(df['country'])\n",
    "\n",
    "dummy_varieties = pd.get_dummies(df['variety'])\n",
    "\n",
    "df = pd.concat([df, dummy_varieties], axis=1)\n",
    "df.describe()"
   ]
  },
  {
   "cell_type": "code",
   "execution_count": null,
   "metadata": {
    "scrolled": true
   },
   "outputs": [],
   "source": [
    "#Looking at the specific stats between countries.\n",
    "#This will also be used to eliminate outlier countries who's sum point counts are below the average.\n",
    "\n",
    "#defining stats function with .describe() and .skew()\n",
    "def stats(x):\n",
    "    results = pd.concat([x.describe(), x.skew()], axis=1)\n",
    "    print(results)\n",
    "\n",
    "stats(df[['country', 'points']].groupby('country'))"
   ]
  },
  {
   "cell_type": "code",
   "execution_count": null,
   "metadata": {},
   "outputs": [],
   "source": [
    "from tqdm import tqdm\n",
    "\n",
    "def corr_heatmap(df):\n",
    "    corr = df.corr()\n",
    "    fig = plt.figure(figsize=(25,20))\n",
    "    ax = sns.heatmap(corr, vmin=-1, vmax=1, cmap=\"coolwarm\", linewidths=0.5, annot=True)\n",
    "    ax.set_title(\"Correlation matrix\")\n",
    "    \n",
    "    return ax\n",
    "\n",
    "corr_heatmap(df)\n"
   ]
  },
  {
   "cell_type": "code",
   "execution_count": null,
   "metadata": {},
   "outputs": [],
   "source": [
    "df_nums = df.drop(['province', 'variety', 'winery',\n",
    "       'description', 'rating_description_str', 'tokenized', 'lemmatized',\n",
    "       'lemma_str'], axis=1)\n",
    "import ppscore as pps\n",
    " \n",
    "\n",
    "def heatmap(df):\n",
    "    fig = plt.figure(figsize=(70,50))\n",
    "    df = df[['x', 'y', 'ppscore']].pivot(columns='x', index='y', values='ppscore')\n",
    "    ax = sns.heatmap(df, vmin=0, vmax=1, cmap=\"coolwarm\", linewidths=0.5, annot=True)\n",
    "    ax.set_title(\"PPS matrix\")\n",
    "    ax.set_xlabel(\"feature\")\n",
    "    ax.set_ylabel(\"target\")\n",
    "    return ax\n",
    "\n",
    "matrix = pps.matrix(df_nums)\n",
    "\n",
    "matrix"
   ]
  },
  {
   "cell_type": "markdown",
   "metadata": {},
   "source": [
    "#### Review of the Correlation and PPS tables\n",
    "The Correlation and PPS tables above reveal some interesting findings about the data:\n",
    "\n",
    "1) the relation between countries and points\n",
    "2) "
   ]
  },
  {
   "cell_type": "code",
   "execution_count": null,
   "metadata": {},
   "outputs": [],
   "source": []
  },
  {
   "cell_type": "markdown",
   "metadata": {},
   "source": [
    "### TF-IDF-NMF Model"
   ]
  },
  {
   "cell_type": "code",
   "execution_count": null,
   "metadata": {},
   "outputs": [],
   "source": [
    "tfidf_vectorizer = TfidfVectorizer(max_df=0.90, min_df =25, max_features=5000, use_idf=True)\n",
    "tfidf = tfidf_vectorizer.fit_transform(df['lemma_str'])\n",
    "tfidf_feature_names = tfidf_vectorizer.get_feature_names()\n",
    "doc_term_matrix_tfidf = pd.DataFrame(tfidf.toarray(), columns=list(tfidf_feature_names))\n",
    "doc_term_matrix_tfidf"
   ]
  },
  {
   "cell_type": "code",
   "execution_count": null,
   "metadata": {},
   "outputs": [],
   "source": [
    "%%time\n",
    "\n",
    "nmf = NMF(n_components=15, random_state=0, alpha=.1, init='nndsvd').fit(tfidf)\n",
    "display_topics(nmf, tfidf_feature_names, no_top_words)"
   ]
  },
  {
   "cell_type": "markdown",
   "metadata": {},
   "source": [
    "### LDA Model"
   ]
  },
  {
   "cell_type": "code",
   "execution_count": null,
   "metadata": {},
   "outputs": [],
   "source": [
    "tf_vectorizer = CountVectorizer(max_df=0.9, min_df=25, max_features=5000)\n",
    "tf = tf_vectorizer.fit_transform(new_df['lemma_str'].values.astype('U'))\n",
    "tf_feature_names = tf_vectorizer.get_feature_names()\n",
    "doc_term_matrix = pd.DataFrame(tf.toarray(), columns=list(tf_feature_names))\n",
    "doc_term_matrix"
   ]
  },
  {
   "cell_type": "code",
   "execution_count": null,
   "metadata": {},
   "outputs": [],
   "source": [
    "lda_model = LatentDirichletAllocation(n_components=10, learning_method='online', max_iter=500, random_state=0).fit(tf)\n",
    "no_top_words = 10\n",
    "def display_topics(model, feature_names, no_top_words):\n",
    "    for topic_idx, topic in enumerate(model.components_):\n",
    "        print(\"Topic %d:\" % (topic_idx))\n",
    "        print(\" \".join([feature_names[i]\n",
    "                          for i in topic.argsort()[:-no_top_words - 1:-1]]))\n",
    "             \n",
    "display_topics(lda_model, tf_feature_names, no_top_words)\n"
   ]
  },
  {
   "cell_type": "code",
   "execution_count": null,
   "metadata": {},
   "outputs": [],
   "source": [
    "pyLDAvis.sklearn.prepare(lda_model, tf, tf_vectorizer)"
   ]
  },
  {
   "cell_type": "markdown",
   "metadata": {},
   "source": [
    "### Comparing topics generated between LDA and NMF models:\n",
    "\n",
    "Looking over the two sets if topics, it appears the NMF model generates much better overall topic descriptions than the LDA model based a sommelier book called Wine Folly which offer descriptions on wines and how to translate the different descriptions. (will be creating a vectorization model from this later)"
   ]
  },
  {
   "cell_type": "code",
   "execution_count": null,
   "metadata": {},
   "outputs": [],
   "source": [
    "\n",
    "\n",
    "nmf_topic_values = nmf.transform(tfidf)\n",
    "df['nmf_topics'] = nmf_topic_values.argmax(axis=1)\n",
    "lda_topic_values = lda_model.transform(tf)\n",
    "df['lda_topics'] = lda_topic_values.argmax(axis=1)\n",
    "lda_remap = {0: 'flavor apple citrus acidity wine crisp peach white finish fruit',\n",
    "             1: 'fruit seem noir pinot new go acid perfume bit acidic',\n",
    "             2: 'cherry black tannin cabernet blend blackberry finish dry merlot drink',\n",
    "             3: 'wine import vineyard year vintage one grape time intense pie',\n",
    "             4: 'cherry flavor raspberry dry little cola spice simple pinot red',\n",
    "             5: 'flavor finish palate fruit berry plum aroma big feel herbal',\n",
    "             6: 'wine fruit spice aroma aromas berry mouth note bright offer',\n",
    "             7: 'flavor wine oak sweet rich good blackberry best like show',\n",
    "             8: 'finish flavor style palate nose sweet light candy hint note',\n",
    "             9: 'wine fruit acidity ripe age tannin year flavor rich structure'}\n",
    "df['lda_topics'] = df['lda_topics'].map(lda_remap)\n",
    "nmf_remap = {0: 'finish berry palate nose plum aroma herbal note flavor feel',\n",
    "             1: 'oak vanilla toast pineapple chardonnay butter rich flavor creamy acidity',\n",
    "             2: 'wine fruit age year ripe structure wood rich well tannin',\n",
    "             3: 'pinot cherry noir raspberry cola silky flavor red drink spice', \n",
    "             4: 'acidity fresh light fruity wine bright red drink crisp attractive',\n",
    "             5: 'sweet soft simple taste like flavor candy wine little jammy',\n",
    "             6: 'cabernet blend sauvignon merlot franc syrah verdot petit blanc sangiovese',\n",
    "             7: 'apple citrus white peach green crisp pear lemon clean lime',\n",
    "             8: 'black cherry spice tannin dark pepper chocolate offer blackberry licorice',\n",
    "             9: 'dry blackberry good currant flavor tannic show drink tannin wine'}\n",
    "df['nmf_topics'] = df['nmf_topics'].map(nmf_remap)"
   ]
  },
  {
   "cell_type": "code",
   "execution_count": null,
   "metadata": {},
   "outputs": [],
   "source": [
    "df.head()"
   ]
  },
  {
   "cell_type": "markdown",
   "metadata": {},
   "source": [
    "### Checkpoint"
   ]
  },
  {
   "cell_type": "code",
   "execution_count": null,
   "metadata": {},
   "outputs": [],
   "source": [
    "df.sort_values(by=['points'])"
   ]
  },
  {
   "cell_type": "code",
   "execution_count": null,
   "metadata": {},
   "outputs": [],
   "source": [
    "nmf_x = df['nmf_topics'].value_counts()\n",
    "nmf_y = nmf_x.sort_index()\n",
    "plt.figure(figsize=(50,30))\n",
    "sns.barplot(nmf_x, nmf_y.index)\n",
    "plt.title(\"NMF Topic Distribution\", fontsize=50)\n",
    "plt.ylabel('Review Topics', fontsize=50)\n",
    "plt.yticks(fontsize=40)\n",
    "plt.xlabel('Frequency', fontsize=50)\n",
    "plt.xticks(fontsize=40)"
   ]
  },
  {
   "cell_type": "code",
   "execution_count": null,
   "metadata": {},
   "outputs": [],
   "source": [
    "df_low_points = df.loc[(df['points']==80) | (df['points']==87)]\n",
    "nmf_low_x = df_low_points['nmf_topics'].value_counts()\n",
    "nmf_low_y = nmf_low_x.sort_index()\n",
    "plt.figure(figsize=(50,30))\n",
    "sns.barplot(nmf_low_x, nmf_low_y.index)\n",
    "plt.title(\"NMF Topic Distribution for Low Points (1 & 2)\", fontsize=50)\n",
    "plt.ylabel('Frequency', fontsize=50)\n",
    "plt.yticks(fontsize=40)\n",
    "plt.xlabel('Review Topics', fontsize=50)\n",
    "plt.xticks(fontsize=40)"
   ]
  },
  {
   "cell_type": "code",
   "execution_count": null,
   "metadata": {},
   "outputs": [],
   "source": [
    "df_high_ratings = df.loc[(df['points']==88) | (df['points']==100)]\n",
    "nmf_high_x = df_high_ratings['nmf_topics'].value_counts()\n",
    "nmf_high_y = nmf_high_x.sort_index()\n",
    "plt.figure(figsize=(50,30))\n",
    "sns.barplot(nmf_high_x, nmf_high_y.index)\n",
    "plt.title(\"NMF Topic Distribution for High Points (3 & 4)\", fontsize=50)\n",
    "plt.ylabel('Frequency', fontsize=50)\n",
    "plt.yticks(fontsize=40)\n",
    "plt.xlabel('Review Topics', fontsize=50)\n",
    "plt.xticks(fontsize=40)"
   ]
  },
  {
   "cell_type": "code",
   "execution_count": null,
   "metadata": {},
   "outputs": [],
   "source": [
    "wines.head()"
   ]
  },
  {
   "cell_type": "code",
   "execution_count": null,
   "metadata": {},
   "outputs": [],
   "source": [
    "wines_new= wines.drop(['lemmatized', 'points'], axis=1)"
   ]
  },
  {
   "cell_type": "code",
   "execution_count": null,
   "metadata": {},
   "outputs": [],
   "source": [
    "new_df = pd.concat([df, wines_new], axis=1)"
   ]
  },
  {
   "cell_type": "code",
   "execution_count": null,
   "metadata": {},
   "outputs": [],
   "source": [
    "new_df.head()"
   ]
  },
  {
   "cell_type": "code",
   "execution_count": null,
   "metadata": {},
   "outputs": [],
   "source": [
    "x_rating = new_df.points.value_counts()\n",
    "y_rating = x_rating.sort_index()\n",
    "plt.figure(figsize=(50,30))\n",
    "sns.barplot(x_rating.index, x_rating.values, alpha=0.8)\n",
    "plt.title(\"Point Distribution\", fontsize=50)\n",
    "plt.ylabel('Frequency', fontsize=50)\n",
    "plt.yticks(fontsize=40)\n",
    "plt.xlabel('Wine Points', fontsize=50)\n",
    "plt.xticks(fontsize=40)"
   ]
  },
  {
   "cell_type": "code",
   "execution_count": null,
   "metadata": {},
   "outputs": [],
   "source": [
    "letter_avg = new_df.groupby('points')['review_len'].mean().plot(kind='bar', figsize=(50,30))\n",
    "plt.xlabel('Points', fontsize=35)\n",
    "plt.ylabel('Count of Letters in Points', fontsize=35)\n",
    "plt.xticks(fontsize=40)\n",
    "plt.yticks(fontsize=40)\n",
    "plt.title('Average Number of Letters per Points Distribution', fontsize=40)\n",
    "plt.show()"
   ]
  },
  {
   "cell_type": "code",
   "execution_count": null,
   "metadata": {},
   "outputs": [],
   "source": [
    "word_avg = new_df.groupby('points')['word_count'].mean().plot(kind='bar', figsize=(50,30))\n",
    "plt.xlabel('Points', fontsize=35)\n",
    "plt.ylabel('Count of Words in Points', fontsize=35)\n",
    "plt.xticks(fontsize=40)\n",
    "plt.yticks(fontsize=40)\n",
    "plt.title('Average Number of Words per Points Distribution', fontsize=40)\n",
    "plt.show()"
   ]
  },
  {
   "cell_type": "code",
   "execution_count": null,
   "metadata": {},
   "outputs": [],
   "source": [
    "correlation = new_df[['points','sentiment', 'review_len', 'word_count']].corr()\n",
    "mask = np.zeros_like(correlation, dtype=np.bool)\n",
    "mask[np.triu_indices_from(mask)] = True\n",
    "plt.figure(figsize=(50,30))\n",
    "plt.xticks(fontsize=40)\n",
    "plt.yticks(fontsize=40)\n",
    "sns.heatmap(correlation, cmap='coolwarm', annot=True, annot_kws={\"size\": 40}, linewidths=10, vmin=-1.5, mask=mask)"
   ]
  },
  {
   "cell_type": "code",
   "execution_count": null,
   "metadata": {},
   "outputs": [],
   "source": [
    "word = new_df['lemmatized']\n",
    "\n",
    "words_nmf = new_df['nmf_topics']\n",
    "\n",
    "words_lda = new_df['lda_topics']"
   ]
  },
  {
   "cell_type": "code",
   "execution_count": null,
   "metadata": {},
   "outputs": [],
   "source": [
    "mostcommon = FreqDist(word).most_common(100)\n",
    "wordcloud = WordCloud(width=1600, height=800, background_color='white').generate(str(mostcommon))\n",
    "fig = plt.figure(figsize=(30,10), facecolor='white')\n",
    "plt.imshow(wordcloud, interpolation=\"bilinear\")\n",
    "plt.axis('off')\n",
    "plt.title('Top 100 Most Common Words', fontsize=100)\n",
    "plt.tight_layout(pad=0)\n",
    "plt.show()"
   ]
  },
  {
   "cell_type": "code",
   "execution_count": null,
   "metadata": {},
   "outputs": [],
   "source": [
    "mostcommon = FreqDist(words_nmf).most_common(100)\n",
    "wordcloud = WordCloud(width=1600, height=800, background_color='white').generate(str(mostcommon))\n",
    "fig = plt.figure(figsize=(30,10), facecolor='white')\n",
    "plt.imshow(wordcloud, interpolation=\"bilinear\")\n",
    "plt.axis('off')\n",
    "plt.title('Top 100 Most Common Words', fontsize=100)\n",
    "plt.tight_layout(pad=0)\n",
    "plt.show()"
   ]
  },
  {
   "cell_type": "code",
   "execution_count": null,
   "metadata": {},
   "outputs": [],
   "source": [
    "mostcommon = FreqDist(words_lda).most_common(100)\n",
    "wordcloud = WordCloud(width=1600, height=800, background_color='white').generate(str(mostcommon))\n",
    "fig = plt.figure(figsize=(30,10), facecolor='white')\n",
    "plt.imshow(wordcloud, interpolation=\"bilinear\")\n",
    "plt.axis('off')\n",
    "plt.title('Top 100 Most Common Words', fontsize=100)\n",
    "plt.tight_layout(pad=0)\n",
    "plt.show()"
   ]
  },
  {
   "cell_type": "code",
   "execution_count": null,
   "metadata": {},
   "outputs": [],
   "source": [
    "new_df = new_df.drop(['province', 'variety'], axis=1)\n",
    "new_df.to_csv('winesft_w_models.csv', index=False, encoding='utf-8')"
   ]
  },
  {
   "cell_type": "code",
   "execution_count": null,
   "metadata": {},
   "outputs": [],
   "source": [
    "new_df.loc[new_df['points'] == 100]"
   ]
  },
  {
   "cell_type": "markdown",
   "metadata": {},
   "source": [
    "### model 2"
   ]
  },
  {
   "cell_type": "code",
   "execution_count": null,
   "metadata": {},
   "outputs": [],
   "source": [
    "plt.figure(figsize=(200,50))\n",
    "plt.xticks(fontsize=40)\n",
    "ax = sns.boxplot(x=\"country\", y=\"points\", data=new_df)"
   ]
  },
  {
   "cell_type": "code",
   "execution_count": null,
   "metadata": {},
   "outputs": [],
   "source": [
    "new_df"
   ]
  },
  {
   "cell_type": "code",
   "execution_count": null,
   "metadata": {},
   "outputs": [],
   "source": [
    "perfect_sen = new_df.loc[new_df['sentiment'] == 1]\n",
    "plt.figure(figsize=(100,50))\n",
    "plt.xticks(fontsize=40)\n",
    "ax = sns.boxplot(x=\"country\", y=\"points\", data=perfect_sen)"
   ]
  },
  {
   "cell_type": "code",
   "execution_count": null,
   "metadata": {},
   "outputs": [],
   "source": []
  }
 ],
 "metadata": {
  "kernelspec": {
   "display_name": "Python 3",
   "language": "python",
   "name": "python3"
  },
  "language_info": {
   "codemirror_mode": {
    "name": "ipython",
    "version": 3
   },
   "file_extension": ".py",
   "mimetype": "text/x-python",
   "name": "python",
   "nbconvert_exporter": "python",
   "pygments_lexer": "ipython3",
   "version": "3.7.9"
  }
 },
 "nbformat": 4,
 "nbformat_minor": 4
}
